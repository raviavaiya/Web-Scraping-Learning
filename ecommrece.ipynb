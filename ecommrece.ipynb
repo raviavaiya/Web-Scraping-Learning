{
 "cells": [
  {
   "cell_type": "code",
   "execution_count": 2,
   "metadata": {},
   "outputs": [],
   "source": [
    "import requests\n",
    "from bs4 import BeautifulSoup"
   ]
  },
  {
   "cell_type": "code",
   "execution_count": 21,
   "metadata": {},
   "outputs": [],
   "source": [
    "url=\"https://www.webscraper.io/test-sites/e-commerce/allinone/computers/tablets\"\n"
   ]
  },
  {
   "cell_type": "code",
   "execution_count": 22,
   "metadata": {},
   "outputs": [
    {
     "name": "stdout",
     "output_type": "stream",
     "text": [
      "<Response [200]>\n"
     ]
    }
   ],
   "source": [
    "r=requests.get(url)\n",
    "print(r)"
   ]
  },
  {
   "cell_type": "code",
   "execution_count": 37,
   "metadata": {},
   "outputs": [
    {
     "name": "stdout",
     "output_type": "stream",
     "text": [
      "Lenovo IdeaTab\n",
      "IdeaTab A3500L\n",
      "Acer Iconia\n",
      "Galaxy Tab 3\n",
      "Iconia B1-730H...\n",
      "Memo Pad HD 7\n",
      "Asus MeMO Pad\n",
      "Amazon Kindle\n",
      "Galaxy Tab 3\n",
      "IdeaTab A8-50\n",
      "MeMO Pad 7\n",
      "IdeaTab A3500-...\n",
      "IdeaTab S5000\n",
      "Galaxy Tab 4\n",
      "Galaxy Tab\n",
      "MeMo PAD FHD 1...\n",
      "Galaxy Note\n",
      "Galaxy Note\n",
      "iPad Mini Reti...\n",
      "Galaxy Note 10...\n",
      "Apple iPad Air\n",
      "$69.99\n",
      "$88.99\n",
      "$96.99\n",
      "$97.99\n",
      "$99.99\n",
      "$101.99\n",
      "$102.99\n",
      "$103.99\n",
      "$107.99\n",
      "$121.99\n",
      "$130.99\n",
      "$148.99\n",
      "$172.99\n",
      "$233.99\n",
      "$251.99\n",
      "$320.99\n",
      "$399.99\n",
      "$489.99\n",
      "$537.99\n",
      "$587.99\n",
      "$603.99\n"
     ]
    }
   ],
   "source": [
    "soup = BeautifulSoup(r.text,\"html.parser\")\n",
    "# print(soup)\n",
    "\n",
    "# boxes = soup.find_all(\"div\",class_ = \"col-md-4 col-xl-4 col-lg-4\")\n",
    "# print(len(boxes))\n",
    "# print(boxes)\n",
    "\n",
    "names = soup.find_all(\"a\",class_ = \"title\")\n",
    "Title_Name=[]\n",
    "Title_Price=[]\n",
    "# print(names)\n",
    "for i in names:\n",
    "    print(i.text)\n",
    "    Title_Name.append(i.text)\n",
    "\n",
    "price = soup.find_all(\"h4\",class_ = \"price float-end card-title pull-right\")\n",
    "# print(price)\n",
    "for i in price:\n",
    "    print(i.text)\n",
    "    Title_Price.append(i.text)"
   ]
  },
  {
   "cell_type": "code",
   "execution_count": 38,
   "metadata": {},
   "outputs": [
    {
     "name": "stdout",
     "output_type": "stream",
     "text": [
      "['Lenovo IdeaTab', 'IdeaTab A3500L', 'Acer Iconia', 'Galaxy Tab 3', 'Iconia B1-730H...', 'Memo Pad HD 7', 'Asus MeMO Pad', 'Amazon Kindle', 'Galaxy Tab 3', 'IdeaTab A8-50', 'MeMO Pad 7', 'IdeaTab A3500-...', 'IdeaTab S5000', 'Galaxy Tab 4', 'Galaxy Tab', 'MeMo PAD FHD 1...', 'Galaxy Note', 'Galaxy Note', 'iPad Mini Reti...', 'Galaxy Note 10...', 'Apple iPad Air']\n",
      "['$69.99', '$88.99', '$96.99', '$97.99', '$99.99', '$101.99', '$102.99', '$103.99', '$107.99', '$121.99', '$130.99', '$148.99', '$172.99', '$233.99', '$251.99', '$320.99', '$399.99', '$489.99', '$537.99', '$587.99', '$603.99']\n"
     ]
    }
   ],
   "source": [
    "print(Title_Name)\n",
    "print(Title_Price)"
   ]
  },
  {
   "cell_type": "code",
   "execution_count": null,
   "metadata": {},
   "outputs": [],
   "source": []
  }
 ],
 "metadata": {
  "kernelspec": {
   "display_name": "Python 3",
   "language": "python",
   "name": "python3"
  },
  "language_info": {
   "codemirror_mode": {
    "name": "ipython",
    "version": 3
   },
   "file_extension": ".py",
   "mimetype": "text/x-python",
   "name": "python",
   "nbconvert_exporter": "python",
   "pygments_lexer": "ipython3",
   "version": "3.12.5"
  }
 },
 "nbformat": 4,
 "nbformat_minor": 2
}
