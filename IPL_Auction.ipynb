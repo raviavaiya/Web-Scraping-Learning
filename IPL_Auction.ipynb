{
 "cells": [
  {
   "cell_type": "code",
   "execution_count": 3,
   "metadata": {},
   "outputs": [],
   "source": [
    "import requests\n",
    "from bs4 import BeautifulSoup\n",
    "import pandas as pd"
   ]
  },
  {
   "cell_type": "code",
   "execution_count": 7,
   "metadata": {},
   "outputs": [
    {
     "name": "stdout",
     "output_type": "stream",
     "text": [
      "<Response [200]>\n"
     ]
    }
   ],
   "source": [
    "url = \"https://www.iplt20.com/auction/2024\"\n",
    "\n",
    "ipl = requests.get(url)\n",
    "print(ipl)"
   ]
  },
  {
   "cell_type": "code",
   "execution_count": 12,
   "metadata": {},
   "outputs": [
    {
     "name": "stdout",
     "output_type": "stream",
     "text": [
      "10\n"
     ]
    }
   ],
   "source": [
    "soup = BeautifulSoup(ipl.text,\"html.parser\")\n",
    "# print(soup)\n",
    "boxes = soup.find_all(\"div\",class_ = \"agv-main\")\n",
    "print(len(boxes))\n"
   ]
  },
  {
   "cell_type": "code",
   "execution_count": 14,
   "metadata": {},
   "outputs": [
    {
     "name": "stdout",
     "output_type": "stream",
     "text": [
      "Chennai Super Kings\n",
      "Delhi Capitals\n",
      "Gujarat Titans\n",
      "Kolkata Knight Riders\n",
      "Lucknow Super Giants\n",
      "Mumbai Indians\n",
      "Punjab Kings\n",
      "Rajasthan Royals\n",
      "Royal Challengers Bengaluru\n",
      "Sunrisers Hyderabad\n"
     ]
    }
   ],
   "source": [
    "Team_Title = soup.find_all(\"div\",class_ = \"agv-team-name\")\n",
    "# print(Team_Title)\n",
    "for i in Team_Title:\n",
    "    print(i.text)"
   ]
  },
  {
   "cell_type": "code",
   "execution_count": 23,
   "metadata": {},
   "outputs": [
    {
     "name": "stdout",
     "output_type": "stream",
     "text": [
      "₹1,00,00,000\n",
      "₹9,90,00,000\n",
      "₹7,85,00,000\n",
      "₹1,35,00,000\n",
      "₹95,00,000\n",
      "₹1,05,00,000\n",
      "₹4,15,00,000\n",
      "₹20,00,000\n",
      "₹2,85,00,000\n",
      "₹3,20,00,000\n"
     ]
    }
   ],
   "source": [
    "Funding_Remaining = soup.find_all(\"span\",class_ = \"fr-fund\")\n",
    "# print(Funding_Remaining)\n",
    "for i in Funding_Remaining:\n",
    "    text = i.text.strip()\n",
    "    if text.startswith(\"₹\"):\n",
    "        print(text)"
   ]
  },
  {
   "cell_type": "code",
   "execution_count": 27,
   "metadata": {},
   "outputs": [
    {
     "name": "stdout",
     "output_type": "stream",
     "text": [
      "8\n",
      "25\n",
      "8\n",
      "25\n",
      "8\n",
      "25\n",
      "8\n",
      "23\n",
      "8\n",
      "25\n",
      "8\n",
      "25\n",
      "8\n",
      "25\n",
      "8\n",
      "22\n",
      "8\n",
      "25\n",
      "8\n",
      "25\n"
     ]
    }
   ],
   "source": [
    "Overseas_Players = soup.find_all(\"span\",class_ = \"fr-fund\")\n",
    "# print(Team_Title)\n",
    "for i in Overseas_Players:\n",
    "    text=i.text.strip()\n",
    "    if not text.startswith(\"₹\"):\n",
    "        print(text)"
   ]
  },
  {
   "cell_type": "code",
   "execution_count": null,
   "metadata": {},
   "outputs": [],
   "source": []
  }
 ],
 "metadata": {
  "kernelspec": {
   "display_name": "Python 3",
   "language": "python",
   "name": "python3"
  },
  "language_info": {
   "codemirror_mode": {
    "name": "ipython",
    "version": 3
   },
   "file_extension": ".py",
   "mimetype": "text/x-python",
   "name": "python",
   "nbconvert_exporter": "python",
   "pygments_lexer": "ipython3",
   "version": "3.12.5"
  }
 },
 "nbformat": 4,
 "nbformat_minor": 2
}
